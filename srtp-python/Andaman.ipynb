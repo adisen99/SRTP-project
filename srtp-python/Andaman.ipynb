{
 "cells": [
  {
   "cell_type": "markdown",
   "metadata": {},
   "source": [
    "# SRTP project analysis Group 9 (Andaman)\n",
    "\n",
    "### Name - Aditya Sengupta, Institute - AIAS, Amity University, Noida\n",
    "\n",
    "### Mentor - Prof. Debasis D. Mohanty, CSIR-NEIST, Jorhat, Assam\n",
    "\n",
    "Data obtained from the ISC catalogue at http://www.isc.ac.uk/iscbulletin/search/catalogue/ for the Andaman Region for the years 1980 to 2020 and for min magnitude $M_b$ = 0.1 to max magnitude $M_b$ = 10, where $M_b$ is the Body wave magnitude of the earthquake and for min. depth of 0 to max. depth of 6731 $\\approx$ Radius of earth or $R_e$."
   ]
  },
  {
   "cell_type": "code",
   "execution_count": 87,
   "metadata": {},
   "outputs": [],
   "source": [
    "import pandas as pd \n",
    "import requests\n",
    "import numpy as np\n",
    "import seaborn as sns\n",
    "import matplotlib.pyplot as plt\n",
    "import scipy.stats as stats\n",
    "plt.style.use('seaborn-pastel')\n",
    "\n",
    "import geopandas as gpd\n",
    "from descartes import PolygonPatch\n",
    "from matplotlib.animation import FuncAnimation\n",
    "# from matplotlib.patches import Polygon"
   ]
  },
  {
   "cell_type": "code",
   "execution_count": 88,
   "metadata": {},
   "outputs": [],
   "source": [
    "df = pd.read_csv('Andaman_data.csv')"
   ]
  },
  {
   "cell_type": "code",
   "execution_count": 89,
   "metadata": {},
   "outputs": [
    {
     "data": {
      "text/html": [
       "<div>\n",
       "<style scoped>\n",
       "    .dataframe tbody tr th:only-of-type {\n",
       "        vertical-align: middle;\n",
       "    }\n",
       "\n",
       "    .dataframe tbody tr th {\n",
       "        vertical-align: top;\n",
       "    }\n",
       "\n",
       "    .dataframe thead th {\n",
       "        text-align: right;\n",
       "    }\n",
       "</style>\n",
       "<table border=\"1\" class=\"dataframe\">\n",
       "  <thead>\n",
       "    <tr style=\"text-align: right;\">\n",
       "      <th></th>\n",
       "      <th>year</th>\n",
       "      <th>month</th>\n",
       "      <th>date</th>\n",
       "      <th>Time</th>\n",
       "      <th>latitude</th>\n",
       "      <th>longitude</th>\n",
       "      <th>depth</th>\n",
       "      <th>magnitude</th>\n",
       "      <th>DATE</th>\n",
       "    </tr>\n",
       "  </thead>\n",
       "  <tbody>\n",
       "    <tr>\n",
       "      <th>0</th>\n",
       "      <td>1980</td>\n",
       "      <td>2</td>\n",
       "      <td>21</td>\n",
       "      <td>16:05:50</td>\n",
       "      <td>10.5276</td>\n",
       "      <td>92.9652</td>\n",
       "      <td>78.7</td>\n",
       "      <td>4.6</td>\n",
       "      <td>1980-02-21</td>\n",
       "    </tr>\n",
       "    <tr>\n",
       "      <th>1</th>\n",
       "      <td>1980</td>\n",
       "      <td>5</td>\n",
       "      <td>26</td>\n",
       "      <td>11:37:30</td>\n",
       "      <td>11.0789</td>\n",
       "      <td>92.8553</td>\n",
       "      <td>43.2</td>\n",
       "      <td>4.8</td>\n",
       "      <td>1980-05-26</td>\n",
       "    </tr>\n",
       "    <tr>\n",
       "      <th>2</th>\n",
       "      <td>1980</td>\n",
       "      <td>8</td>\n",
       "      <td>20</td>\n",
       "      <td>6:21:54</td>\n",
       "      <td>11.0277</td>\n",
       "      <td>92.9682</td>\n",
       "      <td>54.0</td>\n",
       "      <td>5.0</td>\n",
       "      <td>1980-08-20</td>\n",
       "    </tr>\n",
       "    <tr>\n",
       "      <th>3</th>\n",
       "      <td>1980</td>\n",
       "      <td>9</td>\n",
       "      <td>29</td>\n",
       "      <td>0:18:31</td>\n",
       "      <td>13.0346</td>\n",
       "      <td>93.0987</td>\n",
       "      <td>32.0</td>\n",
       "      <td>4.5</td>\n",
       "      <td>1980-09-29</td>\n",
       "    </tr>\n",
       "    <tr>\n",
       "      <th>4</th>\n",
       "      <td>1980</td>\n",
       "      <td>10</td>\n",
       "      <td>31</td>\n",
       "      <td>8:01:10</td>\n",
       "      <td>12.2750</td>\n",
       "      <td>92.8534</td>\n",
       "      <td>41.0</td>\n",
       "      <td>4.6</td>\n",
       "      <td>1980-10-31</td>\n",
       "    </tr>\n",
       "  </tbody>\n",
       "</table>\n",
       "</div>"
      ],
      "text/plain": [
       "   year  month  date      Time  latitude  longitude  depth  magnitude  \\\n",
       "0  1980      2    21  16:05:50   10.5276    92.9652   78.7        4.6   \n",
       "1  1980      5    26  11:37:30   11.0789    92.8553   43.2        4.8   \n",
       "2  1980      8    20   6:21:54   11.0277    92.9682   54.0        5.0   \n",
       "3  1980      9    29   0:18:31   13.0346    93.0987   32.0        4.5   \n",
       "4  1980     10    31   8:01:10   12.2750    92.8534   41.0        4.6   \n",
       "\n",
       "         DATE  \n",
       "0  1980-02-21  \n",
       "1  1980-05-26  \n",
       "2  1980-08-20  \n",
       "3  1980-09-29  \n",
       "4  1980-10-31  "
      ]
     },
     "execution_count": 89,
     "metadata": {},
     "output_type": "execute_result"
    }
   ],
   "source": [
    "df.head()"
   ]
  },
  {
   "cell_type": "code",
   "execution_count": 90,
   "metadata": {},
   "outputs": [
    {
     "data": {
      "text/html": [
       "<div>\n",
       "<style scoped>\n",
       "    .dataframe tbody tr th:only-of-type {\n",
       "        vertical-align: middle;\n",
       "    }\n",
       "\n",
       "    .dataframe tbody tr th {\n",
       "        vertical-align: top;\n",
       "    }\n",
       "\n",
       "    .dataframe thead th {\n",
       "        text-align: right;\n",
       "    }\n",
       "</style>\n",
       "<table border=\"1\" class=\"dataframe\">\n",
       "  <thead>\n",
       "    <tr style=\"text-align: right;\">\n",
       "      <th></th>\n",
       "      <th>year</th>\n",
       "      <th>month</th>\n",
       "      <th>date</th>\n",
       "      <th>latitude</th>\n",
       "      <th>longitude</th>\n",
       "      <th>depth</th>\n",
       "      <th>magnitude</th>\n",
       "    </tr>\n",
       "  </thead>\n",
       "  <tbody>\n",
       "    <tr>\n",
       "      <th>count</th>\n",
       "      <td>1759.000000</td>\n",
       "      <td>1759.000000</td>\n",
       "      <td>1759.000000</td>\n",
       "      <td>1759.000000</td>\n",
       "      <td>1759.000000</td>\n",
       "      <td>1759.000000</td>\n",
       "      <td>1759.000000</td>\n",
       "    </tr>\n",
       "    <tr>\n",
       "      <th>mean</th>\n",
       "      <td>2006.017624</td>\n",
       "      <td>6.469585</td>\n",
       "      <td>17.370665</td>\n",
       "      <td>12.217075</td>\n",
       "      <td>92.725736</td>\n",
       "      <td>25.825867</td>\n",
       "      <td>4.017112</td>\n",
       "    </tr>\n",
       "    <tr>\n",
       "      <th>std</th>\n",
       "      <td>6.697191</td>\n",
       "      <td>3.901819</td>\n",
       "      <td>9.060043</td>\n",
       "      <td>1.072680</td>\n",
       "      <td>0.445045</td>\n",
       "      <td>27.593395</td>\n",
       "      <td>0.543749</td>\n",
       "    </tr>\n",
       "    <tr>\n",
       "      <th>min</th>\n",
       "      <td>1980.000000</td>\n",
       "      <td>1.000000</td>\n",
       "      <td>1.000000</td>\n",
       "      <td>10.280000</td>\n",
       "      <td>91.900600</td>\n",
       "      <td>0.000000</td>\n",
       "      <td>2.900000</td>\n",
       "    </tr>\n",
       "    <tr>\n",
       "      <th>25%</th>\n",
       "      <td>2004.000000</td>\n",
       "      <td>3.000000</td>\n",
       "      <td>10.000000</td>\n",
       "      <td>11.174000</td>\n",
       "      <td>92.370050</td>\n",
       "      <td>0.000000</td>\n",
       "      <td>3.600000</td>\n",
       "    </tr>\n",
       "    <tr>\n",
       "      <th>50%</th>\n",
       "      <td>2005.000000</td>\n",
       "      <td>6.000000</td>\n",
       "      <td>17.000000</td>\n",
       "      <td>12.438400</td>\n",
       "      <td>92.749400</td>\n",
       "      <td>26.400000</td>\n",
       "      <td>3.900000</td>\n",
       "    </tr>\n",
       "    <tr>\n",
       "      <th>75%</th>\n",
       "      <td>2009.000000</td>\n",
       "      <td>10.000000</td>\n",
       "      <td>26.000000</td>\n",
       "      <td>13.137250</td>\n",
       "      <td>93.065350</td>\n",
       "      <td>32.450000</td>\n",
       "      <td>4.300000</td>\n",
       "    </tr>\n",
       "    <tr>\n",
       "      <th>max</th>\n",
       "      <td>2020.000000</td>\n",
       "      <td>12.000000</td>\n",
       "      <td>31.000000</td>\n",
       "      <td>13.727700</td>\n",
       "      <td>93.586700</td>\n",
       "      <td>291.600000</td>\n",
       "      <td>6.400000</td>\n",
       "    </tr>\n",
       "  </tbody>\n",
       "</table>\n",
       "</div>"
      ],
      "text/plain": [
       "              year        month         date     latitude    longitude  \\\n",
       "count  1759.000000  1759.000000  1759.000000  1759.000000  1759.000000   \n",
       "mean   2006.017624     6.469585    17.370665    12.217075    92.725736   \n",
       "std       6.697191     3.901819     9.060043     1.072680     0.445045   \n",
       "min    1980.000000     1.000000     1.000000    10.280000    91.900600   \n",
       "25%    2004.000000     3.000000    10.000000    11.174000    92.370050   \n",
       "50%    2005.000000     6.000000    17.000000    12.438400    92.749400   \n",
       "75%    2009.000000    10.000000    26.000000    13.137250    93.065350   \n",
       "max    2020.000000    12.000000    31.000000    13.727700    93.586700   \n",
       "\n",
       "             depth    magnitude  \n",
       "count  1759.000000  1759.000000  \n",
       "mean     25.825867     4.017112  \n",
       "std      27.593395     0.543749  \n",
       "min       0.000000     2.900000  \n",
       "25%       0.000000     3.600000  \n",
       "50%      26.400000     3.900000  \n",
       "75%      32.450000     4.300000  \n",
       "max     291.600000     6.400000  "
      ]
     },
     "execution_count": 90,
     "metadata": {},
     "output_type": "execute_result"
    }
   ],
   "source": [
    "df.describe()"
   ]
  },
  {
   "cell_type": "code",
   "execution_count": 91,
   "metadata": {},
   "outputs": [
    {
     "data": {
      "image/png": "[encoded data removed]",
      "text/plain": [
       "<Figure size 720x720 with 1 Axes>"
      ]
     },
     "metadata": {
      "needs_background": "light"
     },
     "output_type": "display_data"
    }
   ],
   "source": [
    "plt.figure(figsize=(10,10))\n",
    "sns.scatterplot(y=\"magnitude\", x=df.magnitude.index , data=df)\n",
    "plt.annotate('30-03-2010', xy=(1370, 6.3), xytext=(1400, 6.1),arrowprops=dict(facecolor='black', shrink=0.01),)\n",
    "plt.annotate('26-12-2004', xy=(430, 6.3), xytext=(510, 6.1),arrowprops=dict(facecolor='black', shrink=0.01),)\n",
    "plt.annotate('13-09-2002', xy=(250, 6.2), xytext=(310, 5.9),arrowprops=dict(facecolor='black', shrink=0.01),)\n",
    "plt.savefig('overall_earthquakes_andaman.png')"
   ]
  },
  {
   "cell_type": "code",
   "execution_count": 24,
   "metadata": {},
   "outputs": [],
   "source": [
    "#group by magnitude counts\n",
    "df_magnitude_count = pd.DataFrame(df.magnitude.groupby(df.magnitude).count())\n",
    "df_magnitude_count['index'] = df_magnitude_count.index\n",
    "df_magnitude_count.columns = [\"Count\",\"Magnitude\"]"
   ]
  },
  {
   "cell_type": "code",
   "execution_count": 92,
   "metadata": {},
   "outputs": [
    {
     "data": {
      "image/png": "[encoded data removed]",
      "text/plain": [
       "<Figure size 1152x360 with 1 Axes>"
      ]
     },
     "metadata": {
      "needs_background": "light"
     },
     "output_type": "display_data"
    }
   ],
   "source": [
    "plt.figure(figsize=(16,5))\n",
    "ax = sns.barplot(x=\"Magnitude\", y=\"Count\", data=df_magnitude_count)\n",
    "ax.set_xticklabels(ax.get_xticklabels(),rotation=45)\n",
    "plt.savefig('magnitude_count_andaman.png')"
   ]
  },
  {
   "cell_type": "markdown",
   "metadata": {},
   "source": [
    "## Earthquake Magnitude classes"
   ]
  },
  {
   "cell_type": "code",
   "execution_count": 26,
   "metadata": {},
   "outputs": [],
   "source": [
    "scale = []\n",
    "for magnitude in df.magnitude:\n",
    "    if magnitude >= 3.0 and magnitude <=3.9:\n",
    "        scale.append(\"Limited Damage\")\n",
    "    elif magnitude >=4.0 and magnitude <=4.9:\n",
    "        scale.append(\"Minor Damage\")\n",
    "    elif magnitude >=5.0 and magnitude <=5.9:\n",
    "        scale.append(\"Slight Damage\")\n",
    "    elif magnitude >=6.0 and magnitude <=6.9:\n",
    "        scale.append(\"Severe Damage\")\n",
    "    elif magnitude >=7.0 and magnitude <=7.9:\n",
    "        scale.append(\"Serious Damage\")\n",
    "    else:\n",
    "        scale.append(\"Great Damage\")"
   ]
  },
  {
   "cell_type": "code",
   "execution_count": 27,
   "metadata": {},
   "outputs": [],
   "source": [
    "df['scale'] = scale"
   ]
  },
  {
   "cell_type": "code",
   "execution_count": 28,
   "metadata": {},
   "outputs": [],
   "source": [
    "df_damage_count = pd.DataFrame(df.scale.groupby(df.scale).count().sort_values(ascending=False))\n",
    "df_damage_count['percent'] = ((df_damage_count.scale)/sum(df_damage_count.scale))*100"
   ]
  },
  {
   "cell_type": "code",
   "execution_count": 29,
   "metadata": {},
   "outputs": [
    {
     "data": {
      "text/plain": [
       "Text(0.5, 0, 'Magnitude class')"
      ]
     },
     "execution_count": 29,
     "metadata": {},
     "output_type": "execute_result"
    },
    {
     "data": {
      "image/png": "[encoded data removed]",
      "text/plain": [
       "<Figure size 720x576 with 1 Axes>"
      ]
     },
     "metadata": {
      "needs_background": "light"
     },
     "output_type": "display_data"
    }
   ],
   "source": [
    "plt.figure(figsize=(10,8))\n",
    "sns.barplot(df_damage_count.index,df_damage_count.percent, palette=\"pastel\")\n",
    "# plt.xticks(df_damage_count.index, rotation= 10)\n",
    "plt.ylabel('Percent')\n",
    "plt.xlabel('Magnitude class', fontsize=24)"
   ]
  },
  {
   "cell_type": "markdown",
   "metadata": {},
   "source": [
    "**Magnitude class size: \"Great\", \"Major\", \"Strong\", \"Moderate\", \"Light\", \"Minor\", \"Less than 3.9\")**"
   ]
  },
  {
   "cell_type": "code",
   "execution_count": 30,
   "metadata": {},
   "outputs": [],
   "source": [
    "#array for storing the size_class\n",
    "size_class = []\n",
    "\n",
    "for magnitude in df.magnitude:\n",
    "    if magnitude >= 3.0 and magnitude <=3.9:\n",
    "        size_class.append(\"Minor\")\n",
    "    elif magnitude >=4.0 and magnitude <=4.9:\n",
    "        size_class.append(\"Light\")\n",
    "    elif magnitude >=5.0 and magnitude <=5.9:\n",
    "        size_class.append(\"Moderate\")\n",
    "    elif magnitude >=6.0 and magnitude <=6.9:\n",
    "        size_class.append(\"Strong\")\n",
    "    elif magnitude >=7.0 and magnitude <=7.9:\n",
    "        size_class.append(\"Major\")\n",
    "    else:\n",
    "        size_class.append(\"Great\")\n",
    "\n",
    "#Creating a column in the datafram called class_size\n",
    "df['size_class'] = size_class"
   ]
  },
  {
   "cell_type": "code",
   "execution_count": 31,
   "metadata": {},
   "outputs": [],
   "source": [
    "df_size_class = pd.DataFrame(df.size_class.groupby(df.size_class).count())\n",
    "df_size_class['percent'] = ((df_size_class.size_class)/sum(df_size_class.size_class))*100"
   ]
  },
  {
   "cell_type": "code",
   "execution_count": 93,
   "metadata": {},
   "outputs": [
    {
     "data": {
      "image/png": "[encoded data removed]",
      "text/plain": [
       "<Figure size 720x576 with 1 Axes>"
      ]
     },
     "metadata": {
      "needs_background": "light"
     },
     "output_type": "display_data"
    }
   ],
   "source": [
    "plt.figure(figsize=(10,8))\n",
    "sns.barplot(df_size_class.index,df_size_class.percent, palette=\"Set1\", order = ['Minor','Light','Moderate',\n",
    "                                                                                     'Major',\n",
    "                                                                                    'Strong'])\n",
    "plt.ylabel('Percentage')\n",
    "plt.xlabel('Earthquake Magnitude Classes', fontsize=12)\n",
    "plt.savefig('magnitude_classes_andaman.png')"
   ]
  },
  {
   "cell_type": "code",
   "execution_count": 94,
   "metadata": {},
   "outputs": [],
   "source": [
    "mag_class = []\n",
    "for magnitude in df.magnitude:\n",
    "    if magnitude >= 3.0 and magnitude <=3.9:\n",
    "        mag_class.append(\"3-3.9\")\n",
    "    elif magnitude >=4.0 and magnitude <=4.9:\n",
    "        mag_class.append(\"4-4.9\")\n",
    "    elif magnitude >=5.0 and magnitude <=5.9:\n",
    "        mag_class.append(\"5-5.9\")\n",
    "    elif magnitude >=6.0 and magnitude <=6.9:\n",
    "        mag_class.append(\"6-6.9\")\n",
    "    elif magnitude >=7.0 and magnitude <=7.9:\n",
    "        mag_class.append(\"7-7.9\")\n",
    "    else:\n",
    "        mag_class.append(\"Above 8\")\n",
    "df['mag_class'] = mag_class"
   ]
  },
  {
   "cell_type": "code",
   "execution_count": 95,
   "metadata": {},
   "outputs": [],
   "source": [
    "df['DATE'] = pd.to_datetime(df['DATE'], errors='coerce')\n",
    "group_by_year = pd.DataFrame(df.magnitude.groupby([df['DATE'].dt.year]).count())\n",
    "group_by_year.columns = ['Frequency']"
   ]
  },
  {
   "cell_type": "code",
   "execution_count": 96,
   "metadata": {},
   "outputs": [
    {
     "data": {
      "image/png": "[encoded data removed]",
      "text/plain": [
       "<Figure size 1080x720 with 1 Axes>"
      ]
     },
     "metadata": {
      "needs_background": "light"
     },
     "output_type": "display_data"
    }
   ],
   "source": [
    "plt.figure(figsize=(15,10))\n",
    "by_year = sns.barplot(x=group_by_year.index, y=group_by_year.Frequency)\n",
    "by_year.set_xticklabels(by_year.get_xticklabels(),rotation=45)\n",
    "plt.savefig('yearly_eq_andaman.png')"
   ]
  },
  {
   "cell_type": "code",
   "execution_count": 97,
   "metadata": {},
   "outputs": [
    {
     "data": {
      "text/html": [
       "<div>\n",
       "<style scoped>\n",
       "    .dataframe tbody tr th:only-of-type {\n",
       "        vertical-align: middle;\n",
       "    }\n",
       "\n",
       "    .dataframe tbody tr th {\n",
       "        vertical-align: top;\n",
       "    }\n",
       "\n",
       "    .dataframe thead th {\n",
       "        text-align: right;\n",
       "    }\n",
       "</style>\n",
       "<table border=\"1\" class=\"dataframe\">\n",
       "  <thead>\n",
       "    <tr style=\"text-align: right;\">\n",
       "      <th></th>\n",
       "      <th>year</th>\n",
       "      <th>month</th>\n",
       "      <th>date</th>\n",
       "      <th>Time</th>\n",
       "      <th>latitude</th>\n",
       "      <th>longitude</th>\n",
       "      <th>depth</th>\n",
       "      <th>magnitude</th>\n",
       "      <th>DATE</th>\n",
       "      <th>mag_class</th>\n",
       "    </tr>\n",
       "  </thead>\n",
       "  <tbody>\n",
       "    <tr>\n",
       "      <th>0</th>\n",
       "      <td>1980</td>\n",
       "      <td>2</td>\n",
       "      <td>21</td>\n",
       "      <td>16:05:50</td>\n",
       "      <td>10.5276</td>\n",
       "      <td>92.9652</td>\n",
       "      <td>78.7</td>\n",
       "      <td>4.6</td>\n",
       "      <td>1980-02-21</td>\n",
       "      <td>4-4.9</td>\n",
       "    </tr>\n",
       "    <tr>\n",
       "      <th>1</th>\n",
       "      <td>1980</td>\n",
       "      <td>5</td>\n",
       "      <td>26</td>\n",
       "      <td>11:37:30</td>\n",
       "      <td>11.0789</td>\n",
       "      <td>92.8553</td>\n",
       "      <td>43.2</td>\n",
       "      <td>4.8</td>\n",
       "      <td>1980-05-26</td>\n",
       "      <td>4-4.9</td>\n",
       "    </tr>\n",
       "    <tr>\n",
       "      <th>2</th>\n",
       "      <td>1980</td>\n",
       "      <td>8</td>\n",
       "      <td>20</td>\n",
       "      <td>6:21:54</td>\n",
       "      <td>11.0277</td>\n",
       "      <td>92.9682</td>\n",
       "      <td>54.0</td>\n",
       "      <td>5.0</td>\n",
       "      <td>1980-08-20</td>\n",
       "      <td>5-5.9</td>\n",
       "    </tr>\n",
       "    <tr>\n",
       "      <th>3</th>\n",
       "      <td>1980</td>\n",
       "      <td>9</td>\n",
       "      <td>29</td>\n",
       "      <td>0:18:31</td>\n",
       "      <td>13.0346</td>\n",
       "      <td>93.0987</td>\n",
       "      <td>32.0</td>\n",
       "      <td>4.5</td>\n",
       "      <td>1980-09-29</td>\n",
       "      <td>4-4.9</td>\n",
       "    </tr>\n",
       "    <tr>\n",
       "      <th>4</th>\n",
       "      <td>1980</td>\n",
       "      <td>10</td>\n",
       "      <td>31</td>\n",
       "      <td>8:01:10</td>\n",
       "      <td>12.2750</td>\n",
       "      <td>92.8534</td>\n",
       "      <td>41.0</td>\n",
       "      <td>4.6</td>\n",
       "      <td>1980-10-31</td>\n",
       "      <td>4-4.9</td>\n",
       "    </tr>\n",
       "  </tbody>\n",
       "</table>\n",
       "</div>"
      ],
      "text/plain": [
       "   year  month  date      Time  latitude  longitude  depth  magnitude  \\\n",
       "0  1980      2    21  16:05:50   10.5276    92.9652   78.7        4.6   \n",
       "1  1980      5    26  11:37:30   11.0789    92.8553   43.2        4.8   \n",
       "2  1980      8    20   6:21:54   11.0277    92.9682   54.0        5.0   \n",
       "3  1980      9    29   0:18:31   13.0346    93.0987   32.0        4.5   \n",
       "4  1980     10    31   8:01:10   12.2750    92.8534   41.0        4.6   \n",
       "\n",
       "        DATE mag_class  \n",
       "0 1980-02-21     4-4.9  \n",
       "1 1980-05-26     4-4.9  \n",
       "2 1980-08-20     5-5.9  \n",
       "3 1980-09-29     4-4.9  \n",
       "4 1980-10-31     4-4.9  "
      ]
     },
     "execution_count": 97,
     "metadata": {},
     "output_type": "execute_result"
    }
   ],
   "source": [
    "df.head()"
   ]
  },
  {
   "cell_type": "code",
   "execution_count": 99,
   "metadata": {},
   "outputs": [
    {
     "data": {
      "text/html": [
       "<div>\n",
       "<style scoped>\n",
       "    .dataframe tbody tr th:only-of-type {\n",
       "        vertical-align: middle;\n",
       "    }\n",
       "\n",
       "    .dataframe tbody tr th {\n",
       "        vertical-align: top;\n",
       "    }\n",
       "\n",
       "    .dataframe thead th {\n",
       "        text-align: right;\n",
       "    }\n",
       "</style>\n",
       "<table border=\"1\" class=\"dataframe\">\n",
       "  <thead>\n",
       "    <tr style=\"text-align: right;\">\n",
       "      <th></th>\n",
       "      <th>year</th>\n",
       "      <th>month</th>\n",
       "      <th>date</th>\n",
       "      <th>Time</th>\n",
       "      <th>latitude</th>\n",
       "      <th>longitude</th>\n",
       "      <th>depth</th>\n",
       "      <th>magnitude</th>\n",
       "      <th>DATE</th>\n",
       "    </tr>\n",
       "  </thead>\n",
       "  <tbody>\n",
       "    <tr>\n",
       "      <th>0</th>\n",
       "      <td>1980</td>\n",
       "      <td>2</td>\n",
       "      <td>21</td>\n",
       "      <td>16:05:50</td>\n",
       "      <td>10.5276</td>\n",
       "      <td>92.9652</td>\n",
       "      <td>78.7</td>\n",
       "      <td>4.6</td>\n",
       "      <td>1980-02-21</td>\n",
       "    </tr>\n",
       "    <tr>\n",
       "      <th>1</th>\n",
       "      <td>1980</td>\n",
       "      <td>5</td>\n",
       "      <td>26</td>\n",
       "      <td>11:37:30</td>\n",
       "      <td>11.0789</td>\n",
       "      <td>92.8553</td>\n",
       "      <td>43.2</td>\n",
       "      <td>4.8</td>\n",
       "      <td>1980-05-26</td>\n",
       "    </tr>\n",
       "    <tr>\n",
       "      <th>2</th>\n",
       "      <td>1980</td>\n",
       "      <td>8</td>\n",
       "      <td>20</td>\n",
       "      <td>6:21:54</td>\n",
       "      <td>11.0277</td>\n",
       "      <td>92.9682</td>\n",
       "      <td>54.0</td>\n",
       "      <td>5.0</td>\n",
       "      <td>1980-08-20</td>\n",
       "    </tr>\n",
       "    <tr>\n",
       "      <th>3</th>\n",
       "      <td>1980</td>\n",
       "      <td>9</td>\n",
       "      <td>29</td>\n",
       "      <td>0:18:31</td>\n",
       "      <td>13.0346</td>\n",
       "      <td>93.0987</td>\n",
       "      <td>32.0</td>\n",
       "      <td>4.5</td>\n",
       "      <td>1980-09-29</td>\n",
       "    </tr>\n",
       "    <tr>\n",
       "      <th>4</th>\n",
       "      <td>1980</td>\n",
       "      <td>10</td>\n",
       "      <td>31</td>\n",
       "      <td>8:01:10</td>\n",
       "      <td>12.2750</td>\n",
       "      <td>92.8534</td>\n",
       "      <td>41.0</td>\n",
       "      <td>4.6</td>\n",
       "      <td>1980-10-31</td>\n",
       "    </tr>\n",
       "  </tbody>\n",
       "</table>\n",
       "</div>"
      ],
      "text/plain": [
       "   year  month  date      Time  latitude  longitude  depth  magnitude  \\\n",
       "0  1980      2    21  16:05:50   10.5276    92.9652   78.7        4.6   \n",
       "1  1980      5    26  11:37:30   11.0789    92.8553   43.2        4.8   \n",
       "2  1980      8    20   6:21:54   11.0277    92.9682   54.0        5.0   \n",
       "3  1980      9    29   0:18:31   13.0346    93.0987   32.0        4.5   \n",
       "4  1980     10    31   8:01:10   12.2750    92.8534   41.0        4.6   \n",
       "\n",
       "        DATE  \n",
       "0 1980-02-21  \n",
       "1 1980-05-26  \n",
       "2 1980-08-20  \n",
       "3 1980-09-29  \n",
       "4 1980-10-31  "
      ]
     },
     "execution_count": 99,
     "metadata": {},
     "output_type": "execute_result"
    }
   ],
   "source": [
    "df.drop(['mag_class'],axis=1,inplace=True)\n",
    "df.head()"
   ]
  },
  {
   "cell_type": "code",
   "execution_count": 101,
   "metadata": {},
   "outputs": [],
   "source": [
    "df.to_csv(r'Andaman.csv', index = False)"
   ]
  },
  {
   "cell_type": "code",
   "execution_count": null,
   "metadata": {},
   "outputs": [],
   "source": []
  }
 ],
 "metadata": {
  "kernelspec": {
   "display_name": "Python 3",
   "language": "python",
   "name": "python3"
  },
  "language_info": {
   "codemirror_mode": {
    "name": "ipython",
    "version": 3
   },
   "file_extension": ".py",
   "mimetype": "text/x-python",
   "name": "python",
   "nbconvert_exporter": "python",
   "pygments_lexer": "ipython3",
   "version": "3.7.3"
  }
 },
 "nbformat": 4,
 "nbformat_minor": 2
}
