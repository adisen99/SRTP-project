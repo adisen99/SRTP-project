{
 "cells": [
  {
   "cell_type": "markdown",
   "metadata": {},
   "source": [
    "# SRTP project analysis Group 9 (Western Himalayas)\n",
    "\n",
    "Data obtained from the ISC catalogue at http://www.isc.ac.uk/iscbulletin/search/catalogue/ for the Western Himalayan Region for the years 1980 to 2020 and for min magnitude $M_b$ = 0.1 to max magnitude $M_b$ = 10, where $M_b$ is the Body wave magnitude of the earthquake and for min. depth of 0 to max. depth of 6731 $\\approx$ Radius of earth or $R_e$."
   ]
  },
  {
   "cell_type": "code",
   "execution_count": 1,
   "metadata": {},
   "outputs": [],
   "source": [
    "import pandas as pd \n",
    "import requests\n",
    "import numpy as np\n",
    "import seaborn as sns\n",
    "import matplotlib.pyplot as plt\n",
    "import scipy.stats as stats\n",
    "plt.style.use('seaborn-pastel')\n",
    "\n",
    "import geopandas as gpd\n",
    "from descartes import PolygonPatch\n",
    "from matplotlib.animation import FuncAnimation\n",
    "# from matplotlib.patches import Polygon"
   ]
  },
  {
   "cell_type": "code",
   "execution_count": 3,
   "metadata": {},
   "outputs": [],
   "source": [
    "df = pd.read_csv('WesternHimalayas_data.csv')"
   ]
  },
  {
   "cell_type": "code",
   "execution_count": 4,
   "metadata": {},
   "outputs": [
    {
     "data": {
      "text/html": [
       "<div>\n",
       "<style scoped>\n",
       "    .dataframe tbody tr th:only-of-type {\n",
       "        vertical-align: middle;\n",
       "    }\n",
       "\n",
       "    .dataframe tbody tr th {\n",
       "        vertical-align: top;\n",
       "    }\n",
       "\n",
       "    .dataframe thead th {\n",
       "        text-align: right;\n",
       "    }\n",
       "</style>\n",
       "<table border=\"1\" class=\"dataframe\">\n",
       "  <thead>\n",
       "    <tr style=\"text-align: right;\">\n",
       "      <th></th>\n",
       "      <th>year</th>\n",
       "      <th>month</th>\n",
       "      <th>date</th>\n",
       "      <th>Time</th>\n",
       "      <th>latitude</th>\n",
       "      <th>longitude</th>\n",
       "      <th>depth</th>\n",
       "      <th>magnitude</th>\n",
       "      <th>DATE</th>\n",
       "    </tr>\n",
       "  </thead>\n",
       "  <tbody>\n",
       "    <tr>\n",
       "      <th>0</th>\n",
       "      <td>1980</td>\n",
       "      <td>1</td>\n",
       "      <td>7</td>\n",
       "      <td>12:45:21</td>\n",
       "      <td>33.1280</td>\n",
       "      <td>76.0491</td>\n",
       "      <td>28.0</td>\n",
       "      <td>4.7</td>\n",
       "      <td>1980-01-07</td>\n",
       "    </tr>\n",
       "    <tr>\n",
       "      <th>1</th>\n",
       "      <td>1980</td>\n",
       "      <td>1</td>\n",
       "      <td>8</td>\n",
       "      <td>21:58:07</td>\n",
       "      <td>36.7218</td>\n",
       "      <td>78.6252</td>\n",
       "      <td>35.0</td>\n",
       "      <td>4.6</td>\n",
       "      <td>1980-01-08</td>\n",
       "    </tr>\n",
       "    <tr>\n",
       "      <th>2</th>\n",
       "      <td>1980</td>\n",
       "      <td>2</td>\n",
       "      <td>13</td>\n",
       "      <td>22:09:34</td>\n",
       "      <td>36.3867</td>\n",
       "      <td>76.8273</td>\n",
       "      <td>92.9</td>\n",
       "      <td>6.1</td>\n",
       "      <td>1980-02-13</td>\n",
       "    </tr>\n",
       "    <tr>\n",
       "      <th>3</th>\n",
       "      <td>1980</td>\n",
       "      <td>2</td>\n",
       "      <td>14</td>\n",
       "      <td>3:49:36</td>\n",
       "      <td>36.3603</td>\n",
       "      <td>76.9476</td>\n",
       "      <td>83.7</td>\n",
       "      <td>4.9</td>\n",
       "      <td>1980-02-14</td>\n",
       "    </tr>\n",
       "    <tr>\n",
       "      <th>4</th>\n",
       "      <td>1980</td>\n",
       "      <td>3</td>\n",
       "      <td>29</td>\n",
       "      <td>2:02:57</td>\n",
       "      <td>32.7528</td>\n",
       "      <td>73.9396</td>\n",
       "      <td>35.0</td>\n",
       "      <td>4.8</td>\n",
       "      <td>1980-03-29</td>\n",
       "    </tr>\n",
       "  </tbody>\n",
       "</table>\n",
       "</div>"
      ],
      "text/plain": [
       "   year  month  date      Time  latitude  longitude  depth  magnitude  \\\n",
       "0  1980      1     7  12:45:21   33.1280    76.0491   28.0        4.7   \n",
       "1  1980      1     8  21:58:07   36.7218    78.6252   35.0        4.6   \n",
       "2  1980      2    13  22:09:34   36.3867    76.8273   92.9        6.1   \n",
       "3  1980      2    14   3:49:36   36.3603    76.9476   83.7        4.9   \n",
       "4  1980      3    29   2:02:57   32.7528    73.9396   35.0        4.8   \n",
       "\n",
       "         DATE  \n",
       "0  1980-01-07  \n",
       "1  1980-01-08  \n",
       "2  1980-02-13  \n",
       "3  1980-02-14  \n",
       "4  1980-03-29  "
      ]
     },
     "execution_count": 4,
     "metadata": {},
     "output_type": "execute_result"
    }
   ],
   "source": [
    "df.head()"
   ]
  },
  {
   "cell_type": "code",
   "execution_count": 5,
   "metadata": {},
   "outputs": [
    {
     "data": {
      "text/html": [
       "<div>\n",
       "<style scoped>\n",
       "    .dataframe tbody tr th:only-of-type {\n",
       "        vertical-align: middle;\n",
       "    }\n",
       "\n",
       "    .dataframe tbody tr th {\n",
       "        vertical-align: top;\n",
       "    }\n",
       "\n",
       "    .dataframe thead th {\n",
       "        text-align: right;\n",
       "    }\n",
       "</style>\n",
       "<table border=\"1\" class=\"dataframe\">\n",
       "  <thead>\n",
       "    <tr style=\"text-align: right;\">\n",
       "      <th></th>\n",
       "      <th>year</th>\n",
       "      <th>month</th>\n",
       "      <th>date</th>\n",
       "      <th>latitude</th>\n",
       "      <th>longitude</th>\n",
       "      <th>depth</th>\n",
       "      <th>magnitude</th>\n",
       "    </tr>\n",
       "  </thead>\n",
       "  <tbody>\n",
       "    <tr>\n",
       "      <th>count</th>\n",
       "      <td>2430.000000</td>\n",
       "      <td>2430.000000</td>\n",
       "      <td>2430.000000</td>\n",
       "      <td>2430.000000</td>\n",
       "      <td>2430.000000</td>\n",
       "      <td>2430.000000</td>\n",
       "      <td>2430.000000</td>\n",
       "    </tr>\n",
       "    <tr>\n",
       "      <th>mean</th>\n",
       "      <td>2005.567490</td>\n",
       "      <td>7.225926</td>\n",
       "      <td>15.230453</td>\n",
       "      <td>34.729099</td>\n",
       "      <td>75.607291</td>\n",
       "      <td>26.920165</td>\n",
       "      <td>3.981687</td>\n",
       "    </tr>\n",
       "    <tr>\n",
       "      <th>std</th>\n",
       "      <td>8.724464</td>\n",
       "      <td>3.599607</td>\n",
       "      <td>8.537206</td>\n",
       "      <td>1.255370</td>\n",
       "      <td>1.848174</td>\n",
       "      <td>25.305840</td>\n",
       "      <td>0.478124</td>\n",
       "    </tr>\n",
       "    <tr>\n",
       "      <th>min</th>\n",
       "      <td>1980.000000</td>\n",
       "      <td>1.000000</td>\n",
       "      <td>1.000000</td>\n",
       "      <td>31.493700</td>\n",
       "      <td>73.270400</td>\n",
       "      <td>0.000000</td>\n",
       "      <td>2.200000</td>\n",
       "    </tr>\n",
       "    <tr>\n",
       "      <th>25%</th>\n",
       "      <td>2002.000000</td>\n",
       "      <td>4.000000</td>\n",
       "      <td>8.000000</td>\n",
       "      <td>34.089475</td>\n",
       "      <td>73.741075</td>\n",
       "      <td>10.000000</td>\n",
       "      <td>3.700000</td>\n",
       "    </tr>\n",
       "    <tr>\n",
       "      <th>50%</th>\n",
       "      <td>2005.000000</td>\n",
       "      <td>8.000000</td>\n",
       "      <td>14.000000</td>\n",
       "      <td>34.824500</td>\n",
       "      <td>75.567250</td>\n",
       "      <td>22.000000</td>\n",
       "      <td>3.900000</td>\n",
       "    </tr>\n",
       "    <tr>\n",
       "      <th>75%</th>\n",
       "      <td>2012.000000</td>\n",
       "      <td>10.000000</td>\n",
       "      <td>22.000000</td>\n",
       "      <td>35.596525</td>\n",
       "      <td>77.144825</td>\n",
       "      <td>35.000000</td>\n",
       "      <td>4.200000</td>\n",
       "    </tr>\n",
       "    <tr>\n",
       "      <th>max</th>\n",
       "      <td>2020.000000</td>\n",
       "      <td>12.000000</td>\n",
       "      <td>31.000000</td>\n",
       "      <td>37.009000</td>\n",
       "      <td>79.708300</td>\n",
       "      <td>395.400000</td>\n",
       "      <td>6.900000</td>\n",
       "    </tr>\n",
       "  </tbody>\n",
       "</table>\n",
       "</div>"
      ],
      "text/plain": [
       "              year        month         date     latitude    longitude  \\\n",
       "count  2430.000000  2430.000000  2430.000000  2430.000000  2430.000000   \n",
       "mean   2005.567490     7.225926    15.230453    34.729099    75.607291   \n",
       "std       8.724464     3.599607     8.537206     1.255370     1.848174   \n",
       "min    1980.000000     1.000000     1.000000    31.493700    73.270400   \n",
       "25%    2002.000000     4.000000     8.000000    34.089475    73.741075   \n",
       "50%    2005.000000     8.000000    14.000000    34.824500    75.567250   \n",
       "75%    2012.000000    10.000000    22.000000    35.596525    77.144825   \n",
       "max    2020.000000    12.000000    31.000000    37.009000    79.708300   \n",
       "\n",
       "             depth    magnitude  \n",
       "count  2430.000000  2430.000000  \n",
       "mean     26.920165     3.981687  \n",
       "std      25.305840     0.478124  \n",
       "min       0.000000     2.200000  \n",
       "25%      10.000000     3.700000  \n",
       "50%      22.000000     3.900000  \n",
       "75%      35.000000     4.200000  \n",
       "max     395.400000     6.900000  "
      ]
     },
     "execution_count": 5,
     "metadata": {},
     "output_type": "execute_result"
    }
   ],
   "source": [
    "df.describe()"
   ]
  },
  {
   "cell_type": "code",
   "execution_count": 30,
   "metadata": {},
   "outputs": [
    {
     "data": {
      "image/png": "[encoded data removed]",
      "text/plain": [
       "<Figure size 720x720 with 1 Axes>"
      ]
     },
     "metadata": {
      "needs_background": "light"
     },
     "output_type": "display_data"
    }
   ],
   "source": [
    "plt.figure(figsize=(10,10))\n",
    "sns.scatterplot(y=\"magnitude\", x=df.magnitude.index , data=df)\n",
    "plt.annotate('08-10-2005', xy=(900, 6.7), xytext=(500, 6.2),arrowprops=dict(facecolor='black', shrink=0.01),)\n",
    "plt.savefig('overall_earthquakes_himalayas.png')"
   ]
  },
  {
   "cell_type": "code",
   "execution_count": 31,
   "metadata": {},
   "outputs": [],
   "source": [
    "#group by magnitude counts\n",
    "df_magnitude_count = pd.DataFrame(df.magnitude.groupby(df.magnitude).count())\n",
    "df_magnitude_count['index'] = df_magnitude_count.index\n",
    "df_magnitude_count.columns = [\"Count\",\"Magnitude\"]"
   ]
  },
  {
   "cell_type": "code",
   "execution_count": 32,
   "metadata": {},
   "outputs": [
    {
     "data": {
      "image/png": "[encoded data removed]",
      "text/plain": [
       "<Figure size 1152x360 with 1 Axes>"
      ]
     },
     "metadata": {
      "needs_background": "light"
     },
     "output_type": "display_data"
    }
   ],
   "source": [
    "plt.figure(figsize=(16,5))\n",
    "ax = sns.barplot(x=\"Magnitude\", y=\"Count\", data=df_magnitude_count)\n",
    "ax.set_xticklabels(ax.get_xticklabels(),rotation=45)\n",
    "plt.savefig('magnitude_count_himalayas.png')"
   ]
  },
  {
   "cell_type": "markdown",
   "metadata": {},
   "source": [
    "## Earthquake Magnitude classes"
   ]
  },
  {
   "cell_type": "code",
   "execution_count": 33,
   "metadata": {},
   "outputs": [],
   "source": [
    "scale = []\n",
    "for magnitude in df.magnitude:\n",
    "    if magnitude >= 3.0 and magnitude <=3.9:\n",
    "        scale.append(\"Limited Damage\")\n",
    "    elif magnitude >=4.0 and magnitude <=4.9:\n",
    "        scale.append(\"Minor Damage\")\n",
    "    elif magnitude >=5.0 and magnitude <=5.9:\n",
    "        scale.append(\"Slight Damage\")\n",
    "    elif magnitude >=6.0 and magnitude <=6.9:\n",
    "        scale.append(\"Severe Damage\")\n",
    "    elif magnitude >=7.0 and magnitude <=7.9:\n",
    "        scale.append(\"Serious Damage\")\n",
    "    else:\n",
    "        scale.append(\"Great Damage\")"
   ]
  },
  {
   "cell_type": "code",
   "execution_count": 34,
   "metadata": {},
   "outputs": [],
   "source": [
    "df['scale'] = scale"
   ]
  },
  {
   "cell_type": "code",
   "execution_count": 35,
   "metadata": {},
   "outputs": [],
   "source": [
    "df_damage_count = pd.DataFrame(df.scale.groupby(df.scale).count().sort_values(ascending=False))\n",
    "df_damage_count['percent'] = ((df_damage_count.scale)/sum(df_damage_count.scale))*100"
   ]
  },
  {
   "cell_type": "code",
   "execution_count": 36,
   "metadata": {},
   "outputs": [
    {
     "data": {
      "text/plain": [
       "Text(0.5, 0, 'Magnitude class')"
      ]
     },
     "execution_count": 36,
     "metadata": {},
     "output_type": "execute_result"
    },
    {
     "data": {
      "image/png": "[encoded data removed]",
      "text/plain": [
       "<Figure size 720x576 with 1 Axes>"
      ]
     },
     "metadata": {
      "needs_background": "light"
     },
     "output_type": "display_data"
    }
   ],
   "source": [
    "plt.figure(figsize=(10,8))\n",
    "sns.barplot(df_damage_count.index,df_damage_count.percent, palette=\"pastel\")\n",
    "# plt.xticks(df_damage_count.index, rotation= 10)\n",
    "plt.ylabel('Percent')\n",
    "plt.xlabel('Magnitude class', fontsize=24)"
   ]
  },
  {
   "cell_type": "markdown",
   "metadata": {},
   "source": [
    "**Magnitude class size: \"Great\", \"Major\", \"Strong\", \"Moderate\", \"Light\", \"Minor\", \"Less than 3.9\")**"
   ]
  },
  {
   "cell_type": "code",
   "execution_count": 37,
   "metadata": {},
   "outputs": [],
   "source": [
    "#array for storing the size_class\n",
    "size_class = []\n",
    "\n",
    "for magnitude in df.magnitude:\n",
    "    if magnitude >= 3.0 and magnitude <=3.9:\n",
    "        size_class.append(\"Minor\")\n",
    "    elif magnitude >=4.0 and magnitude <=4.9:\n",
    "        size_class.append(\"Light\")\n",
    "    elif magnitude >=5.0 and magnitude <=5.9:\n",
    "        size_class.append(\"Moderate\")\n",
    "    elif magnitude >=6.0 and magnitude <=6.9:\n",
    "        size_class.append(\"Strong\")\n",
    "    elif magnitude >=7.0 and magnitude <=7.9:\n",
    "        size_class.append(\"Major\")\n",
    "    else:\n",
    "        size_class.append(\"Great\")\n",
    "\n",
    "#Creating a column in the datafram called class_size\n",
    "df['size_class'] = size_class"
   ]
  },
  {
   "cell_type": "code",
   "execution_count": 38,
   "metadata": {},
   "outputs": [],
   "source": [
    "df_size_class = pd.DataFrame(df.size_class.groupby(df.size_class).count())\n",
    "df_size_class['percent'] = ((df_size_class.size_class)/sum(df_size_class.size_class))*100"
   ]
  },
  {
   "cell_type": "code",
   "execution_count": 39,
   "metadata": {},
   "outputs": [
    {
     "data": {
      "image/png": "[encoded data removed]",
      "text/plain": [
       "<Figure size 720x576 with 1 Axes>"
      ]
     },
     "metadata": {
      "needs_background": "light"
     },
     "output_type": "display_data"
    }
   ],
   "source": [
    "plt.figure(figsize=(10,8))\n",
    "sns.barplot(df_size_class.index,df_size_class.percent, palette=\"Set1\", order = ['Minor','Light','Moderate',\n",
    "                                                                                     'Major',\n",
    "                                                                                    'Strong'])\n",
    "plt.ylabel('Percentage')\n",
    "plt.xlabel('Earthquake Magnitude Classes', fontsize=12)\n",
    "plt.savefig('magnitude_classes_himalayas.png')"
   ]
  },
  {
   "cell_type": "code",
   "execution_count": 40,
   "metadata": {},
   "outputs": [],
   "source": [
    "mag_class = []\n",
    "for magnitude in df.magnitude:\n",
    "    if magnitude >= 3.0 and magnitude <=3.9:\n",
    "        mag_class.append(\"3-3.9\")\n",
    "    elif magnitude >=4.0 and magnitude <=4.9:\n",
    "        mag_class.append(\"4-4.9\")\n",
    "    elif magnitude >=5.0 and magnitude <=5.9:\n",
    "        mag_class.append(\"5-5.9\")\n",
    "    elif magnitude >=6.0 and magnitude <=6.9:\n",
    "        mag_class.append(\"6-6.9\")\n",
    "    elif magnitude >=7.0 and magnitude <=7.9:\n",
    "        mag_class.append(\"7-7.9\")\n",
    "    else:\n",
    "        mag_class.append(\"Above 8\")\n",
    "df['mag_class'] = mag_class"
   ]
  },
  {
   "cell_type": "code",
   "execution_count": 41,
   "metadata": {},
   "outputs": [],
   "source": [
    "df['DATE'] = pd.to_datetime(df['DATE'], errors='coerce')\n",
    "group_by_year = pd.DataFrame(df.magnitude.groupby([df['DATE'].dt.year]).count())\n",
    "group_by_year.columns = ['Frequency']"
   ]
  },
  {
   "cell_type": "code",
   "execution_count": 42,
   "metadata": {},
   "outputs": [
    {
     "data": {
      "image/png": "[encoded data removed]",
      "text/plain": [
       "<Figure size 1080x720 with 1 Axes>"
      ]
     },
     "metadata": {
      "needs_background": "light"
     },
     "output_type": "display_data"
    }
   ],
   "source": [
    "plt.figure(figsize=(15,10))\n",
    "by_year = sns.barplot(x=group_by_year.index, y=group_by_year.Frequency)\n",
    "by_year.set_xticklabels(by_year.get_xticklabels(),rotation=45)\n",
    "plt.savefig('yearly_eq_himalayas.png')"
   ]
  },
  {
   "cell_type": "code",
   "execution_count": 43,
   "metadata": {},
   "outputs": [
    {
     "data": {
      "text/html": [
       "<div>\n",
       "<style scoped>\n",
       "    .dataframe tbody tr th:only-of-type {\n",
       "        vertical-align: middle;\n",
       "    }\n",
       "\n",
       "    .dataframe tbody tr th {\n",
       "        vertical-align: top;\n",
       "    }\n",
       "\n",
       "    .dataframe thead th {\n",
       "        text-align: right;\n",
       "    }\n",
       "</style>\n",
       "<table border=\"1\" class=\"dataframe\">\n",
       "  <thead>\n",
       "    <tr style=\"text-align: right;\">\n",
       "      <th></th>\n",
       "      <th>year</th>\n",
       "      <th>month</th>\n",
       "      <th>date</th>\n",
       "      <th>Time</th>\n",
       "      <th>latitude</th>\n",
       "      <th>longitude</th>\n",
       "      <th>depth</th>\n",
       "      <th>magnitude</th>\n",
       "      <th>DATE</th>\n",
       "      <th>scale</th>\n",
       "      <th>size_class</th>\n",
       "      <th>mag_class</th>\n",
       "    </tr>\n",
       "  </thead>\n",
       "  <tbody>\n",
       "    <tr>\n",
       "      <th>0</th>\n",
       "      <td>1980</td>\n",
       "      <td>1</td>\n",
       "      <td>7</td>\n",
       "      <td>12:45:21</td>\n",
       "      <td>33.1280</td>\n",
       "      <td>76.0491</td>\n",
       "      <td>28.0</td>\n",
       "      <td>4.7</td>\n",
       "      <td>1980-01-07</td>\n",
       "      <td>Minor Damage</td>\n",
       "      <td>Light</td>\n",
       "      <td>4-4.9</td>\n",
       "    </tr>\n",
       "    <tr>\n",
       "      <th>1</th>\n",
       "      <td>1980</td>\n",
       "      <td>1</td>\n",
       "      <td>8</td>\n",
       "      <td>21:58:07</td>\n",
       "      <td>36.7218</td>\n",
       "      <td>78.6252</td>\n",
       "      <td>35.0</td>\n",
       "      <td>4.6</td>\n",
       "      <td>1980-01-08</td>\n",
       "      <td>Minor Damage</td>\n",
       "      <td>Light</td>\n",
       "      <td>4-4.9</td>\n",
       "    </tr>\n",
       "    <tr>\n",
       "      <th>2</th>\n",
       "      <td>1980</td>\n",
       "      <td>2</td>\n",
       "      <td>13</td>\n",
       "      <td>22:09:34</td>\n",
       "      <td>36.3867</td>\n",
       "      <td>76.8273</td>\n",
       "      <td>92.9</td>\n",
       "      <td>6.1</td>\n",
       "      <td>1980-02-13</td>\n",
       "      <td>Severe Damage</td>\n",
       "      <td>Strong</td>\n",
       "      <td>6-6.9</td>\n",
       "    </tr>\n",
       "    <tr>\n",
       "      <th>3</th>\n",
       "      <td>1980</td>\n",
       "      <td>2</td>\n",
       "      <td>14</td>\n",
       "      <td>3:49:36</td>\n",
       "      <td>36.3603</td>\n",
       "      <td>76.9476</td>\n",
       "      <td>83.7</td>\n",
       "      <td>4.9</td>\n",
       "      <td>1980-02-14</td>\n",
       "      <td>Minor Damage</td>\n",
       "      <td>Light</td>\n",
       "      <td>4-4.9</td>\n",
       "    </tr>\n",
       "    <tr>\n",
       "      <th>4</th>\n",
       "      <td>1980</td>\n",
       "      <td>3</td>\n",
       "      <td>29</td>\n",
       "      <td>2:02:57</td>\n",
       "      <td>32.7528</td>\n",
       "      <td>73.9396</td>\n",
       "      <td>35.0</td>\n",
       "      <td>4.8</td>\n",
       "      <td>1980-03-29</td>\n",
       "      <td>Minor Damage</td>\n",
       "      <td>Light</td>\n",
       "      <td>4-4.9</td>\n",
       "    </tr>\n",
       "  </tbody>\n",
       "</table>\n",
       "</div>"
      ],
      "text/plain": [
       "   year  month  date      Time  latitude  longitude  depth  magnitude  \\\n",
       "0  1980      1     7  12:45:21   33.1280    76.0491   28.0        4.7   \n",
       "1  1980      1     8  21:58:07   36.7218    78.6252   35.0        4.6   \n",
       "2  1980      2    13  22:09:34   36.3867    76.8273   92.9        6.1   \n",
       "3  1980      2    14   3:49:36   36.3603    76.9476   83.7        4.9   \n",
       "4  1980      3    29   2:02:57   32.7528    73.9396   35.0        4.8   \n",
       "\n",
       "        DATE          scale size_class mag_class  \n",
       "0 1980-01-07   Minor Damage      Light     4-4.9  \n",
       "1 1980-01-08   Minor Damage      Light     4-4.9  \n",
       "2 1980-02-13  Severe Damage     Strong     6-6.9  \n",
       "3 1980-02-14   Minor Damage      Light     4-4.9  \n",
       "4 1980-03-29   Minor Damage      Light     4-4.9  "
      ]
     },
     "execution_count": 43,
     "metadata": {},
     "output_type": "execute_result"
    }
   ],
   "source": [
    "df.head()"
   ]
  },
  {
   "cell_type": "code",
   "execution_count": 44,
   "metadata": {},
   "outputs": [
    {
     "data": {
      "text/html": [
       "<div>\n",
       "<style scoped>\n",
       "    .dataframe tbody tr th:only-of-type {\n",
       "        vertical-align: middle;\n",
       "    }\n",
       "\n",
       "    .dataframe tbody tr th {\n",
       "        vertical-align: top;\n",
       "    }\n",
       "\n",
       "    .dataframe thead th {\n",
       "        text-align: right;\n",
       "    }\n",
       "</style>\n",
       "<table border=\"1\" class=\"dataframe\">\n",
       "  <thead>\n",
       "    <tr style=\"text-align: right;\">\n",
       "      <th></th>\n",
       "      <th>year</th>\n",
       "      <th>month</th>\n",
       "      <th>date</th>\n",
       "      <th>Time</th>\n",
       "      <th>latitude</th>\n",
       "      <th>longitude</th>\n",
       "      <th>depth</th>\n",
       "      <th>magnitude</th>\n",
       "    </tr>\n",
       "  </thead>\n",
       "  <tbody>\n",
       "    <tr>\n",
       "      <th>0</th>\n",
       "      <td>1980</td>\n",
       "      <td>1</td>\n",
       "      <td>7</td>\n",
       "      <td>12:45:21</td>\n",
       "      <td>33.1280</td>\n",
       "      <td>76.0491</td>\n",
       "      <td>28.0</td>\n",
       "      <td>4.7</td>\n",
       "    </tr>\n",
       "    <tr>\n",
       "      <th>1</th>\n",
       "      <td>1980</td>\n",
       "      <td>1</td>\n",
       "      <td>8</td>\n",
       "      <td>21:58:07</td>\n",
       "      <td>36.7218</td>\n",
       "      <td>78.6252</td>\n",
       "      <td>35.0</td>\n",
       "      <td>4.6</td>\n",
       "    </tr>\n",
       "    <tr>\n",
       "      <th>2</th>\n",
       "      <td>1980</td>\n",
       "      <td>2</td>\n",
       "      <td>13</td>\n",
       "      <td>22:09:34</td>\n",
       "      <td>36.3867</td>\n",
       "      <td>76.8273</td>\n",
       "      <td>92.9</td>\n",
       "      <td>6.1</td>\n",
       "    </tr>\n",
       "    <tr>\n",
       "      <th>3</th>\n",
       "      <td>1980</td>\n",
       "      <td>2</td>\n",
       "      <td>14</td>\n",
       "      <td>3:49:36</td>\n",
       "      <td>36.3603</td>\n",
       "      <td>76.9476</td>\n",
       "      <td>83.7</td>\n",
       "      <td>4.9</td>\n",
       "    </tr>\n",
       "    <tr>\n",
       "      <th>4</th>\n",
       "      <td>1980</td>\n",
       "      <td>3</td>\n",
       "      <td>29</td>\n",
       "      <td>2:02:57</td>\n",
       "      <td>32.7528</td>\n",
       "      <td>73.9396</td>\n",
       "      <td>35.0</td>\n",
       "      <td>4.8</td>\n",
       "    </tr>\n",
       "  </tbody>\n",
       "</table>\n",
       "</div>"
      ],
      "text/plain": [
       "   year  month  date      Time  latitude  longitude  depth  magnitude\n",
       "0  1980      1     7  12:45:21   33.1280    76.0491   28.0        4.7\n",
       "1  1980      1     8  21:58:07   36.7218    78.6252   35.0        4.6\n",
       "2  1980      2    13  22:09:34   36.3867    76.8273   92.9        6.1\n",
       "3  1980      2    14   3:49:36   36.3603    76.9476   83.7        4.9\n",
       "4  1980      3    29   2:02:57   32.7528    73.9396   35.0        4.8"
      ]
     },
     "execution_count": 44,
     "metadata": {},
     "output_type": "execute_result"
    }
   ],
   "source": [
    "df.drop(['DATE', 'scale','size_class', 'mag_class'],axis=1,inplace=True)\n",
    "df.head()"
   ]
  },
  {
   "cell_type": "code",
   "execution_count": 45,
   "metadata": {},
   "outputs": [],
   "source": [
    "df.to_csv(r'Himalayas.csv', index = False)"
   ]
  },
  {
   "cell_type": "code",
   "execution_count": null,
   "metadata": {},
   "outputs": [],
   "source": []
  }
 ],
 "metadata": {
  "kernelspec": {
   "display_name": "Python 3",
   "language": "python",
   "name": "python3"
  },
  "language_info": {
   "codemirror_mode": {
    "name": "ipython",
    "version": 3
   },
   "file_extension": ".py",
   "mimetype": "text/x-python",
   "name": "python",
   "nbconvert_exporter": "python",
   "pygments_lexer": "ipython3",
   "version": "3.7.3"
  }
 },
 "nbformat": 4,
 "nbformat_minor": 2
}
